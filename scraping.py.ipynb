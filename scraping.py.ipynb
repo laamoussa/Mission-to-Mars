{
 "cells": [
  {
   "cell_type": "code",
   "execution_count": null,
   "id": "930d63c0",
   "metadata": {},
   "outputs": [],
   "source": [
    "# Import Splinter, BeautifulSoup, and Pandas\n",
    "from splinter import Browser\n",
    "from bs4 import BeautifulSoup as soup\n",
    "import pandas as pd\n",
    "import datetime as dt\n",
    "from webdriver_manager.chrome import ChromeDriverManager"
   ]
  },
  {
   "cell_type": "code",
   "execution_count": null,
   "id": "93cba914",
   "metadata": {},
   "outputs": [],
   "source": [
    "def scrape_all():\n",
    "    # Initiate headless driver for deployment\n",
    "    executable_path = {'executable_path': ChromeDriverManager().install()}\n",
    "    browser = Browser('chrome', **executable_path, headless=True)\n"
   ]
  },
  {
   "cell_type": "code",
   "execution_count": null,
   "id": "1fb5e299",
   "metadata": {},
   "outputs": [],
   "source": [
    "news_title, news_paragraph = mars_news(browser)\n",
    "hemisphere_image_urls=hemisphere(browser)\n"
   ]
  },
  {
   "cell_type": "code",
   "execution_count": null,
   "id": "c79a0c73",
   "metadata": {},
   "outputs": [],
   "source": [
    "# Run all scraping functions and store results in dictionary\n",
    "data = {\n",
    "      \"news_title\": news_title,\n",
    "      \"news_paragraph\": news_paragraph,\n",
    "      \"featured_image\": featured_image(browser),\n",
    "      \"facts\": mars_facts(),\n",
    "      \"last_modified\": dt.datetime.now()\n",
    "}"
   ]
  },
  {
   "cell_type": "code",
   "execution_count": null,
   "id": "b1d8b6ca",
   "metadata": {},
   "outputs": [],
   "source": [
    "# Stop webdriver and return data\n",
    "   browser.quit()\n",
    "   return data\n",
    "\n",
    "def mars_news(browser):\n",
    "    "
   ]
  },
  {
   "cell_type": "code",
   "execution_count": null,
   "id": "1ce02fec",
   "metadata": {},
   "outputs": [],
   "source": [
    "# Scrape Mars News\n",
    "    # Visit the mars nasa news site\n",
    "    url = 'https://data-class-mars.s3.amazonaws.com/Mars/index.html'\n",
    "    browser.visit(url)\n"
   ]
  },
  {
   "cell_type": "code",
   "execution_count": null,
   "id": "01151fb5",
   "metadata": {},
   "outputs": [],
   "source": [
    "# Optional delay for loading the page\n",
    "    browser.is_element_present_by_css('div.list_text', wait_time=1)\n"
   ]
  },
  {
   "cell_type": "code",
   "execution_count": null,
   "id": "88a37801",
   "metadata": {},
   "outputs": [],
   "source": [
    "# Convert the browser html to a soup object and then quit the browser\n",
    "    html = browser.html\n",
    "    news_soup = soup(html, 'html.parser')\n"
   ]
  },
  {
   "cell_type": "code",
   "execution_count": null,
   "id": "fe810dd8",
   "metadata": {},
   "outputs": [],
   "source": [
    "# Add try/except for error handling\n",
    "    try:\n",
    "        slide_elem = news_soup.select_one('div.list_text')\n",
    "        # Use the parent element to find the first 'a' tag and save it as 'news_title'\n",
    "        news_title = slide_elem.find('div', class_='content_title').get_text()\n",
    "        # Use the parent element to find the paragraph text\n",
    "        news_p = slide_elem.find('div', class_='article_teaser_body').get_text()\n",
    "\n",
    "    except AttributeError:\n",
    "        return None, None\n",
    "\n",
    "    return news_title, news_p\n",
    "\n",
    "\n",
    "def featured_image(browser):"
   ]
  },
  {
   "cell_type": "code",
   "execution_count": null,
   "id": "ef4529ca",
   "metadata": {},
   "outputs": [],
   "source": [
    "# Visit URL\n",
    "    url = 'https://data-class-jpl-space.s3.amazonaws.com/JPL_Space/index.html'\n",
    "    browser.visit(url)\n"
   ]
  },
  {
   "cell_type": "code",
   "execution_count": null,
   "id": "1c2533f2",
   "metadata": {},
   "outputs": [],
   "source": [
    "Find and click the full image button\n",
    "    full_image_elem = browser.find_by_tag('button')[1]\n",
    "    full_image_elem.click()\n"
   ]
  },
  {
   "cell_type": "code",
   "execution_count": null,
   "id": "a97bcf71",
   "metadata": {},
   "outputs": [],
   "source": [
    "# Parse the resulting html with soup\n",
    "    html = browser.html\n",
    "    img_soup = soup(html, 'html.parser')\n"
   ]
  },
  {
   "cell_type": "code",
   "execution_count": null,
   "id": "3de33ca6",
   "metadata": {},
   "outputs": [],
   "source": [
    "# Add try/except for error handling\n",
    "    try:\n",
    "        # Find the relative image url\n",
    "        img_url_rel = img_soup.find('img', class_='fancybox-image').get('src')\n",
    "        \n",
    "    except AttributeError:\n",
    "        return None"
   ]
  },
  {
   "cell_type": "code",
   "execution_count": null,
   "id": "9a89d941",
   "metadata": {},
   "outputs": [],
   "source": [
    "# Use the base url to create an absolute url\n",
    "    img_url = f'https://data-class-jpl-space.s3.amazonaws.com/JPL_Space/{img_url_rel}'\n",
    "    print(img_url)\n",
    "    return img_url\n",
    "\n",
    "def mars_facts():"
   ]
  },
  {
   "cell_type": "code",
   "execution_count": null,
   "id": "32202643",
   "metadata": {},
   "outputs": [],
   "source": [
    " # Add try/except for error handling\n",
    "    try:\n",
    "        # Use 'read_html' to scrape the facts table into a dataframe\n",
    "        df = pd.read_html('https://data-class-mars-facts.s3.amazonaws.com/Mars_Facts/index.html')[0]\n",
    "\n",
    "    except BaseException:\n",
    "        return None\n"
   ]
  },
  {
   "cell_type": "code",
   "execution_count": null,
   "id": "2f23550b",
   "metadata": {},
   "outputs": [],
   "source": [
    "# Assign columns and set index of dataframe\n",
    "    df.columns=['Description', 'Mars', 'Earth']\n",
    "    df.set_index('Description', inplace=True)\n"
   ]
  },
  {
   "cell_type": "code",
   "execution_count": null,
   "id": "4b330f45",
   "metadata": {},
   "outputs": [],
   "source": [
    "# Convert dataframe into HTML format, add bootstrap\n",
    "    return df.to_html(classes=\"table table-striped\")\n",
    "\n",
    "def hemisphere(browser):\n",
    "    url='https://astrogeology.usgs.gov/search/results?q=hemisphere+enhanced&k1=target&v1=Mars'\n",
    "    browser.visit(url)\n",
    "\n",
    "\n",
    "    hemisphere_image_urls = []\n",
    "\n",
    "    imgs_links= browser.find_by_css(\"a.product-item h3\")\n",
    "\n",
    "    for x in range(len(imgs_links)):\n",
    "        hemisphere={}"
   ]
  },
  {
   "cell_type": "code",
   "execution_count": null,
   "id": "3c2f4b7a",
   "metadata": {},
   "outputs": [],
   "source": [
    "# Find elements going to click link \n",
    "        browser.find_by_css(\"a.product-item h3\")[x].click()\n"
   ]
  },
  {
   "cell_type": "code",
   "execution_count": null,
   "id": "b68c8809",
   "metadata": {},
   "outputs": [],
   "source": [
    "# Find sample Image link\n",
    "        sample_img= browser.find_link_by_text(\"Sample\").first\n",
    "        hemisphere['img_url']=sample_img['href']\n"
   ]
  },
  {
   "cell_type": "code",
   "execution_count": null,
   "id": "8b7b8f04",
   "metadata": {},
   "outputs": [],
   "source": [
    "# Get hemisphere Title\n",
    "hemisphere['title']=browser.find_by_css(\"h2.title\").text\n"
   ]
  },
  {
   "cell_type": "code",
   "execution_count": null,
   "id": "55091d3e",
   "metadata": {},
   "outputs": [],
   "source": [
    "#Add Objects to hemisphere_img_urls list\n",
    "hemisphere_image_urls.append(hemisphere)\n"
   ]
  },
  {
   "cell_type": "code",
   "execution_count": null,
   "id": "31376060",
   "metadata": {},
   "outputs": [],
   "source": [
    "# If running as script, print scraped data\n",
    "    print(scrape_all())\n"
   ]
  }
 ],
 "metadata": {
  "kernelspec": {
   "display_name": "Python 3",
   "language": "python",
   "name": "python3"
  },
  "language_info": {
   "codemirror_mode": {
    "name": "ipython",
    "version": 3
   },
   "file_extension": ".py",
   "mimetype": "text/x-python",
   "name": "python",
   "nbconvert_exporter": "python",
   "pygments_lexer": "ipython3",
   "version": "3.7.10"
  }
 },
 "nbformat": 4,
 "nbformat_minor": 5
}
